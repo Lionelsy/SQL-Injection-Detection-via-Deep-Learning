{
 "cells": [
  {
   "cell_type": "code",
   "execution_count": 1,
   "metadata": {},
   "outputs": [],
   "source": [
    "import torch\n",
    "import torch.nn as nn\n",
    "import torch.nn.functional as F\n",
    "import torch.optim as optim"
   ]
  },
  {
   "cell_type": "code",
   "execution_count": 2,
   "metadata": {},
   "outputs": [],
   "source": [
    "import numpy as np\n",
    "import pandas as pd\n",
    "\n",
    "df = pd.read_csv(\"/home/shuyu/others/cs315/data/all.csv\")\n",
    "train = pd.read_csv(\"/home/shuyu/others/cs315/data/train.csv\")\n",
    "val = pd.read_csv(\"/home/shuyu/others/cs315/data/val.csv\")\n",
    "test = pd.read_csv(\"/home/shuyu/others/cs315/data/test.csv\")\n"
   ]
  },
  {
   "cell_type": "code",
   "execution_count": 3,
   "metadata": {},
   "outputs": [
    {
     "name": "stdout",
     "output_type": "stream",
     "text": [
      "X_train:  (26979, 10319)\n",
      "X_val:  (3372, 10319)\n",
      "X_test:  (3374, 10319)\n"
     ]
    }
   ],
   "source": [
    "from nltk.corpus import stopwords\n",
    "from sklearn.feature_extraction.text import CountVectorizer\n",
    "\n",
    "\n",
    "temp = CountVectorizer(min_df=2, max_df=0.7, stop_words=stopwords.words('english'))\n",
    "t1 = temp.fit_transform(df['Sentence'].values.astype('U')).toarray()\n",
    "vocabulary = temp.get_feature_names()\n",
    "vectorizer = CountVectorizer(min_df=2, max_df=0.7, stop_words=stopwords.words('english'), vocabulary=vocabulary)\n",
    "\n",
    "X_train = vectorizer.fit_transform(train['Sentence'].values.astype('U')).toarray()\n",
    "X_val = vectorizer.fit_transform(val['Sentence'].values.astype('U')).toarray()\n",
    "X_test = vectorizer.fit_transform(test['Sentence'].values.astype('U')).toarray()\n",
    "\n",
    "y_train = train['Label'].values\n",
    "y_val = val['Label'].values\n",
    "y_test = test['Label'].values\n",
    "\n",
    "print('X_train: ', X_train.shape)\n",
    "print('X_val: ', X_val.shape)\n",
    "print('X_test: ', X_test.shape)\n",
    "\n",
    "from sklearn.metrics import accuracy_score\n",
    "from sklearn.metrics import precision_recall_fscore_support\n",
    "\n",
    "\n",
    "def performence(y_test, y_pred):\n",
    "    a = accuracy_score(y_test, y_pred)\n",
    "    precision, recall, fscore, _ = \\\n",
    "        precision_recall_fscore_support(y_test, y_pred, average='weighted')\n",
    "    print(\"Accuracy : {:.4f}\".format(a))\n",
    "    print(\"Precision : {:.4f}\".format(precision))\n",
    "    print(\"Recall : {:.4f}\".format(recall))\n",
    "    print(\"F-Score : {:.4f}\".format(fscore))\n",
    "\n",
    "\n",
    "import torch\n",
    "import torch.nn as nn\n",
    "import torch.nn.functional as F\n",
    "import torch.optim as optim\n",
    "\n",
    "\n",
    "def set_seed(seed):\n",
    "    np.random.seed(seed)\n",
    "    torch.manual_seed(seed)\n",
    "    torch.cuda.manual_seed_all(seed)\n",
    "\n",
    "\n",
    "set_seed(108)\n",
    "\n",
    "X_train = torch.from_numpy(X_train).cuda()\n",
    "X_val = torch.from_numpy(X_val).cuda()\n",
    "X_test = torch.from_numpy(X_test).cuda()\n",
    "\n",
    "y_train = torch.from_numpy(y_train).cuda()\n",
    "y_val = torch.from_numpy(y_val).cuda()\n",
    "y_test = torch.from_numpy(y_test)\n"
   ]
  },
  {
   "cell_type": "code",
   "execution_count": null,
   "metadata": {},
   "outputs": [],
   "source": []
  },
  {
   "cell_type": "code",
   "execution_count": 4,
   "metadata": {},
   "outputs": [],
   "source": [
    "class LSTM(nn.Module):\n",
    "    def __init__(self, in_dim=10319, dropout=0.0):\n",
    "        super(LSTM, self).__init__()\n",
    "        self.dropout = dropout\n",
    "\n",
    "        self.lstm = nn.LSTM(in_dim, 512, batch_first=True)\n",
    "\n",
    "        self.mlp = nn.Sequential(\n",
    "            nn.Linear(in_features=512, out_features=64),\n",
    "            nn.LeakyReLU(inplace=True),\n",
    "            nn.Dropout(self.dropout),\n",
    "            nn.Linear(in_features=64, out_features=2),\n",
    "        )\n",
    "                \n",
    "    def forward(self, x):\n",
    "        x = torch.unsqueeze(x, 1)\n",
    "        ou, _ = self.lstm(x)\n",
    "        x = torch.squeeze(ou, 1)\n",
    "        return self.mlp(x)\n"
   ]
  },
  {
   "cell_type": "code",
   "execution_count": 5,
   "metadata": {},
   "outputs": [],
   "source": [
    "in_dim = X_train.shape[1]\n",
    "dropout = 0.01\n",
    "lr = 6e-6\n",
    "\n",
    "lstm = LSTM(in_dim, dropout).cuda()\n",
    "\n",
    "criterion = nn.CrossEntropyLoss()\n",
    "optimizer = optim.SGD(lstm.parameters(), lr=lr,\n",
    "                      momentum=0.9, weight_decay=5e-4)\n",
    "\n",
    "scheduler = torch.optim.lr_scheduler.CosineAnnealingLR(optimizer, T_max=200)\n",
    "\n",
    "epoch = 30\n",
    "batch = 100\n",
    "\n",
    "max_loss = 1e6"
   ]
  },
  {
   "cell_type": "code",
   "execution_count": 6,
   "metadata": {},
   "outputs": [
    {
     "name": "stdout",
     "output_type": "stream",
     "text": [
      "Iter:0, Loss:0.67\n",
      "Iter:1, Loss:0.64\n",
      "Iter:2, Loss:0.64\n",
      "Iter:3, Loss:0.67\n",
      "Iter:4, Loss:0.70\n",
      "Iter:5, Loss:0.69\n",
      "Iter:6, Loss:0.65\n",
      "Iter:7, Loss:0.61\n",
      "Iter:8, Loss:0.61\n",
      "Iter:9, Loss:0.63\n",
      "Iter:10, Loss:0.59\n",
      "Iter:11, Loss:0.52\n",
      "Iter:12, Loss:0.52\n",
      "Iter:13, Loss:0.54\n",
      "Iter:14, Loss:0.47\n",
      "Iter:15, Loss:0.34\n",
      "Iter:16, Loss:0.34\n",
      "Iter:17, Loss:0.35\n",
      "Iter:18, Loss:0.30\n",
      "Iter:19, Loss:0.45\n",
      "Iter:20, Loss:0.51\n",
      "Iter:21, Loss:0.42\n",
      "Iter:22, Loss:0.25\n",
      "Iter:23, Loss:0.36\n",
      "Iter:24, Loss:0.22\n",
      "Iter:25, Loss:0.45\n",
      "Iter:26, Loss:0.75\n",
      "Iter:27, Loss:0.94\n",
      "Iter:28, Loss:1.01\n",
      "Iter:29, Loss:0.96\n"
     ]
    }
   ],
   "source": [
    "for i in range(0, epoch):\n",
    "    lstm.train()\n",
    "    for j in range(0, batch):\n",
    "        X_in = X_train[j:j + batch]\n",
    "        y_true = y_train[j:j + batch]\n",
    "        pred = lstm(X_in.float())\n",
    "        loss = criterion(pred, y_true)\n",
    "        loss.backward()\n",
    "        optimizer.step()\n",
    "    lstm.eval()\n",
    "    pred = lstm(X_val.float())\n",
    "    loss = criterion(pred, y_val)\n",
    "    lo = loss.item()\n",
    "#     if lo < max_loss:\n",
    "#         max_loss = lo\n",
    "#         dic = mlp.state_dict()\n",
    "    print('Iter:{:d}, Loss:{:.2f}'.format(i, lo))\n"
   ]
  },
  {
   "cell_type": "code",
   "execution_count": null,
   "metadata": {},
   "outputs": [],
   "source": []
  },
  {
   "cell_type": "code",
   "execution_count": null,
   "metadata": {},
   "outputs": [],
   "source": []
  }
 ],
 "metadata": {
  "kernelspec": {
   "display_name": "cs315",
   "language": "python",
   "name": "cs315"
  },
  "language_info": {
   "codemirror_mode": {
    "name": "ipython",
    "version": 3
   },
   "file_extension": ".py",
   "mimetype": "text/x-python",
   "name": "python",
   "nbconvert_exporter": "python",
   "pygments_lexer": "ipython3",
   "version": "3.6.12"
  }
 },
 "nbformat": 4,
 "nbformat_minor": 2
}
