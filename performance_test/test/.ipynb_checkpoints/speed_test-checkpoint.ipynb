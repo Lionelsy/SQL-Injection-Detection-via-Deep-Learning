{
 "cells": [
  {
   "cell_type": "code",
   "execution_count": 1,
   "metadata": {},
   "outputs": [],
   "source": [
    "import requests\n",
    "import json\n",
    "import time\n",
    "\n",
    "import numpy as np\n",
    "import pandas as pd\n",
    "from datetime import datetime"
   ]
  },
  {
   "cell_type": "code",
   "execution_count": 2,
   "metadata": {},
   "outputs": [],
   "source": [
    "headers = {'Content-Type': 'application/json', 'Accept':'application/json'}"
   ]
  },
  {
   "cell_type": "code",
   "execution_count": 3,
   "metadata": {},
   "outputs": [],
   "source": [
    "train = pd.read_csv(\"/home/shuyu/others/cs315/data/train.csv\")\n",
    "val = pd.read_csv(\"/home/shuyu/others/cs315/data/val.csv\")\n",
    "test = pd.read_csv(\"/home/shuyu/others/cs315/data/test.csv\")"
   ]
  },
  {
   "cell_type": "code",
   "execution_count": 4,
   "metadata": {},
   "outputs": [],
   "source": [
    "index = np.random.permutation(len(test))"
   ]
  },
  {
   "cell_type": "code",
   "execution_count": null,
   "metadata": {},
   "outputs": [],
   "source": []
  },
  {
   "cell_type": "markdown",
   "metadata": {},
   "source": [
    "## Query Setting"
   ]
  },
  {
   "cell_type": "code",
   "execution_count": 5,
   "metadata": {},
   "outputs": [],
   "source": [
    "query_number = 1\n",
    "test_number = 100"
   ]
  },
  {
   "cell_type": "code",
   "execution_count": 6,
   "metadata": {},
   "outputs": [],
   "source": [
    "query_index = index[:query_number]"
   ]
  },
  {
   "cell_type": "code",
   "execution_count": 7,
   "metadata": {},
   "outputs": [
    {
     "data": {
      "text/plain": [
       "0                                               spindler1\n",
       "1                                                   mirna\n",
       "2        The vast majority airliners qualify greater e...\n",
       "3                                                vilafant\n",
       "4                                        6470509098489788\n",
       "                              ...                        \n",
       "3369                 1'  )  )   as wjfj where 3802 = 3802\n",
       "3370     Prime property - top 5% 10% housing market pr...\n",
       "3371                                                 ralf\n",
       "3372                                         gazof!ilacio\n",
       "3373     However , nobody afford lose qualified worker...\n",
       "Name: Sentence, Length: 3374, dtype: object"
      ]
     },
     "execution_count": 7,
     "metadata": {},
     "output_type": "execute_result"
    }
   ],
   "source": [
    "test['Sentence']"
   ]
  },
  {
   "cell_type": "code",
   "execution_count": 8,
   "metadata": {},
   "outputs": [],
   "source": [
    "query = test['Sentence'][query_index]"
   ]
  },
  {
   "cell_type": "code",
   "execution_count": 9,
   "metadata": {},
   "outputs": [
    {
     "data": {
      "text/plain": [
       "1558    38408789p\n",
       "Name: Sentence, dtype: object"
      ]
     },
     "execution_count": 9,
     "metadata": {},
     "output_type": "execute_result"
    }
   ],
   "source": [
    "query"
   ]
  },
  {
   "cell_type": "code",
   "execution_count": null,
   "metadata": {},
   "outputs": [],
   "source": []
  },
  {
   "cell_type": "markdown",
   "metadata": {},
   "source": [
    "## Word2Vec"
   ]
  },
  {
   "cell_type": "code",
   "execution_count": 21,
   "metadata": {},
   "outputs": [
    {
     "name": "stdout",
     "output_type": "stream",
     "text": [
      "time comsumtion : 10.73\n"
     ]
    }
   ],
   "source": [
    "url = 'http://10.20.84.191:8950/predict'\n",
    "start_time = datetime.now()\n",
    "# start_time = time.timer()\n",
    "for i in range(test_number):\n",
    "    x = requests.post(url = url,json=json.dumps(query.tolist()), headers=headers)\n",
    "    res = json.loads(x.text)\n",
    "end_time = datetime.now()\n",
    "# end_time = time.timer()\n",
    "lr_time = end_time - start_time\n",
    "print('time comsumtion : {:.2f}'.format(lr_time.total_seconds()*1000/test_number))\n",
    "# print('time comsumtion : {:.2f}'.format(lr_time*1000/test_number))"
   ]
  },
  {
   "cell_type": "code",
   "execution_count": null,
   "metadata": {},
   "outputs": [],
   "source": []
  },
  {
   "cell_type": "markdown",
   "metadata": {},
   "source": [
    "## Linear"
   ]
  },
  {
   "cell_type": "code",
   "execution_count": 28,
   "metadata": {
    "scrolled": true
   },
   "outputs": [
    {
     "name": "stdout",
     "output_type": "stream",
     "text": [
      "time comsumtion : 21.99ms\n"
     ]
    }
   ],
   "source": [
    "url = 'http://10.20.84.191:8950/lr'\n",
    "start_time = datetime.now()\n",
    "for i in range(test_number):\n",
    "    x = requests.post(url = url,json=json.dumps(query.tolist()), headers=headers)\n",
    "    res = json.loads(x.text)\n",
    "end_time = datetime.now()\n",
    "lr_time = end_time - start_time\n",
    "print('time comsumtion : {:.2f}ms'.format(lr_time.total_seconds()*1000/test_number))"
   ]
  },
  {
   "cell_type": "code",
   "execution_count": null,
   "metadata": {},
   "outputs": [],
   "source": []
  },
  {
   "cell_type": "markdown",
   "metadata": {},
   "source": [
    "## SVM"
   ]
  },
  {
   "cell_type": "code",
   "execution_count": 11,
   "metadata": {},
   "outputs": [
    {
     "name": "stdout",
     "output_type": "stream",
     "text": [
      "time comsumtion : 272.74ms\n"
     ]
    }
   ],
   "source": [
    "url = 'http://10.20.84.191:8950/svm'\n",
    "start_time = datetime.now()\n",
    "for i in range(test_number):\n",
    "    x = requests.post(url = url,json=json.dumps(query.tolist()), headers=headers)\n",
    "    res = json.loads(x.text)\n",
    "end_time = datetime.now()\n",
    "svm_time = end_time - start_time\n",
    "print('time comsumtion : {:.2f}ms'.format(svm_time.total_seconds()*1000/test_number))"
   ]
  },
  {
   "cell_type": "code",
   "execution_count": null,
   "metadata": {},
   "outputs": [],
   "source": []
  },
  {
   "cell_type": "markdown",
   "metadata": {},
   "source": [
    "## KNN"
   ]
  },
  {
   "cell_type": "code",
   "execution_count": 12,
   "metadata": {},
   "outputs": [
    {
     "name": "stdout",
     "output_type": "stream",
     "text": [
      "time comsumtion : 613.38ms\n"
     ]
    }
   ],
   "source": [
    "url = 'http://10.20.84.191:8950/knn'\n",
    "start_time = datetime.now()\n",
    "for i in range(test_number):\n",
    "    x = requests.post(url = url,json=json.dumps(query.tolist()), headers=headers)\n",
    "    res = json.loads(x.text)\n",
    "end_time = datetime.now()\n",
    "knn_time = end_time - start_time\n",
    "print('time comsumtion : {:.2f}ms'.format(knn_time.total_seconds()*1000/test_number))"
   ]
  },
  {
   "cell_type": "code",
   "execution_count": null,
   "metadata": {},
   "outputs": [],
   "source": []
  },
  {
   "cell_type": "markdown",
   "metadata": {},
   "source": [
    "## Decision Tree"
   ]
  },
  {
   "cell_type": "code",
   "execution_count": 17,
   "metadata": {},
   "outputs": [
    {
     "name": "stdout",
     "output_type": "stream",
     "text": [
      "time comsumtion : 12.05ms\n"
     ]
    }
   ],
   "source": [
    "url = 'http://10.20.84.191:8950/dt'\n",
    "start_time = datetime.now()\n",
    "for i in range(test_number):\n",
    "    x = requests.post(url = url,json=json.dumps(query.tolist()), headers=headers)\n",
    "    res = json.loads(x.text)\n",
    "end_time = datetime.now()\n",
    "dt_time = end_time - start_time\n",
    "print('time comsumtion : {:.2f}ms'.format(dt_time.total_seconds()*1000/test_number))"
   ]
  },
  {
   "cell_type": "code",
   "execution_count": null,
   "metadata": {},
   "outputs": [],
   "source": []
  },
  {
   "cell_type": "markdown",
   "metadata": {},
   "source": [
    "## MLP"
   ]
  },
  {
   "cell_type": "code",
   "execution_count": 13,
   "metadata": {},
   "outputs": [
    {
     "name": "stdout",
     "output_type": "stream",
     "text": [
      "time comsumtion : 33.58ms\n"
     ]
    }
   ],
   "source": [
    "url = 'http://10.20.84.191:8950/mlp'\n",
    "start_time = datetime.now()\n",
    "for i in range(test_number):\n",
    "    x = requests.post(url = url,json=json.dumps(query.tolist()), headers=headers)\n",
    "    res = json.loads(x.text)\n",
    "end_time = datetime.now()\n",
    "dt_time = end_time - start_time\n",
    "print('time comsumtion : {:.2f}ms'.format(dt_time.total_seconds()*1000/test_number))"
   ]
  },
  {
   "cell_type": "code",
   "execution_count": null,
   "metadata": {},
   "outputs": [],
   "source": []
  },
  {
   "cell_type": "markdown",
   "metadata": {},
   "source": [
    "## AutoEncoder"
   ]
  },
  {
   "cell_type": "code",
   "execution_count": 16,
   "metadata": {},
   "outputs": [
    {
     "name": "stdout",
     "output_type": "stream",
     "text": [
      "time comsumtion : 89.66ms\n"
     ]
    }
   ],
   "source": [
    "url = 'http://10.20.84.191:8950/ae'\n",
    "start_time = datetime.now()\n",
    "for i in range(test_number):\n",
    "    x = requests.post(url = url,json=json.dumps(query.tolist()), headers=headers)\n",
    "    res = json.loads(x.text)\n",
    "end_time = datetime.now()\n",
    "dt_time = end_time - start_time\n",
    "print('time comsumtion : {:.2f}ms'.format(dt_time.total_seconds()*1000/test_number))"
   ]
  },
  {
   "cell_type": "code",
   "execution_count": null,
   "metadata": {},
   "outputs": [],
   "source": []
  },
  {
   "cell_type": "markdown",
   "metadata": {},
   "source": [
    "## LSTM"
   ]
  },
  {
   "cell_type": "code",
   "execution_count": 14,
   "metadata": {},
   "outputs": [
    {
     "name": "stdout",
     "output_type": "stream",
     "text": [
      "time comsumtion : 60.29ms\n"
     ]
    }
   ],
   "source": [
    "url = 'http://10.20.84.191:8950/lstm'\n",
    "start_time = datetime.now()\n",
    "for i in range(test_number):\n",
    "    x = requests.post(url = url,json=json.dumps(query.tolist()), headers=headers)\n",
    "    res = json.loads(x.text)\n",
    "end_time = datetime.now()\n",
    "dt_time = end_time - start_time\n",
    "print('time comsumtion : {:.2f}ms'.format(dt_time.total_seconds()*1000/test_number))"
   ]
  },
  {
   "cell_type": "code",
   "execution_count": null,
   "metadata": {},
   "outputs": [],
   "source": []
  }
 ],
 "metadata": {
  "kernelspec": {
   "display_name": "cs315",
   "language": "python",
   "name": "cs315"
  },
  "language_info": {
   "codemirror_mode": {
    "name": "ipython",
    "version": 3
   },
   "file_extension": ".py",
   "mimetype": "text/x-python",
   "name": "python",
   "nbconvert_exporter": "python",
   "pygments_lexer": "ipython3",
   "version": "3.6.12"
  }
 },
 "nbformat": 4,
 "nbformat_minor": 2
}
